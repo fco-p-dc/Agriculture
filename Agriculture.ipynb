{
 "cells": [
  {
   "cell_type": "markdown",
   "id": "d3d001b0-2e2f-4b58-8442-99520bad831f",
   "metadata": {},
   "source": [
    "# Sowing Success: How Machine Learning Helps Farmers Select the Best Crops\n",
    "\n",
    "![Farmer in a field](farmer_in_a_field.jpg)\n",
    "\n",
    "Measuring essential soil metrics such as nitrogen, phosphorous, potassium levels, and pH value is an important aspect of assessing soil condition. However, it can be an expensive and time-consuming process, which can cause farmers to prioritize which metrics to measure based on their budget constraints.\n",
    "\n",
    "Farmers have various options when it comes to deciding which crop to plant each season. Their primary objective is to maximize the yield of their crops, taking into account different factors. One crucial factor that affects crop growth is the condition of the soil in the field, which can be assessed by measuring basic elements such as nitrogen and potassium levels. Each crop has an ideal soil condition that ensures optimal growth and maximum yield.\n",
    "\n",
    "A farmer reached out to you as a machine learning expert for assistance in selecting the best crop for his field. They've provided you with a dataset called `soil_measures.csv`, which contains:\n",
    "\n",
    "- `\"N\"`: Nitrogen content ratio in the soil\n",
    "- `\"P\"`: Phosphorous content ratio in the soil\n",
    "- `\"K\"`: Potassium content ratio in the soil\n",
    "- `\"pH\"` value of the soil\n",
    "- `\"crop\"`: categorical values that contain various crops (target variable).\n",
    "\n",
    "Each row in this dataset represents various measures of the soil in a particular field. Based on these measurements, the crop specified in the `\"crop\"` column is the optimal choice for that field.  \n",
    "\n",
    "In this project, you will build multi-class classification models to predict the type of `\"crop\"` and identify the single most importance feature for predictive performance."
   ]
  },
  {
   "cell_type": "code",
   "execution_count": 2,
   "id": "d0eb4f16-5a99-460d-a5ba-706b7ef0bbe7",
   "metadata": {
    "executionCancelledAt": null,
    "executionTime": 652,
    "id": "bA5ajAmk7XH6",
    "lastExecutedAt": 1726448512011,
    "lastExecutedByKernel": "e550fea3-5716-4bb0-b39a-9d9a38ce4400",
    "lastScheduledRunId": null,
    "lastSuccessfullyExecutedCode": "# All required libraries are imported here for you.\nimport pandas as pd\nfrom sklearn.linear_model import LogisticRegression\nfrom sklearn.model_selection import train_test_split\nfrom sklearn import metrics\n\n# Load the dataset\ncrops = pd.read_csv(\"soil_measures.csv\")\n\n# Write your code here\nlogreg = LogisticRegression()"
   },
   "outputs": [],
   "source": [
    "# All required libraries are imported here for you.\n",
    "import pandas as pd\n",
    "from sklearn.linear_model import LogisticRegression\n",
    "from sklearn.model_selection import train_test_split\n",
    "from sklearn import metrics\n",
    "\n",
    "# Load the dataset\n",
    "crops = pd.read_csv(\"soil_measures.csv\")\n",
    "\n",
    "# Write your code here\n",
    "logreg = LogisticRegression()"
   ]
  },
  {
   "cell_type": "code",
   "execution_count": 3,
   "id": "5401e380-4574-4b3e-a3be-87dc3f4897b7",
   "metadata": {
    "executionCancelledAt": null,
    "executionTime": 19,
    "lastExecutedAt": 1726448513750,
    "lastExecutedByKernel": "e550fea3-5716-4bb0-b39a-9d9a38ce4400",
    "lastScheduledRunId": null,
    "lastSuccessfullyExecutedCode": "#Empieza el codigo hecho por el estudiante\n#Checamos la informacion del dataframe\nprint(crops.info())\nprint(crops.isna().sum())\n#Guardamos la columna donde esta el tipo de cultivo e imprimimos\nall_crops = crops[\"crop\"].tolist()\nprint(crops[\"crop\"].unique())\nprint(len(all_crops))",
    "outputsMetadata": {
     "0": {
      "height": 524,
      "type": "stream"
     }
    }
   },
   "outputs": [
    {
     "name": "stdout",
     "output_type": "stream",
     "text": [
      "<class 'pandas.core.frame.DataFrame'>\n",
      "RangeIndex: 2200 entries, 0 to 2199\n",
      "Data columns (total 5 columns):\n",
      " #   Column  Non-Null Count  Dtype  \n",
      "---  ------  --------------  -----  \n",
      " 0   N       2200 non-null   int64  \n",
      " 1   P       2200 non-null   int64  \n",
      " 2   K       2200 non-null   int64  \n",
      " 3   ph      2200 non-null   float64\n",
      " 4   crop    2200 non-null   object \n",
      "dtypes: float64(1), int64(3), object(1)\n",
      "memory usage: 86.1+ KB\n",
      "None\n",
      "N       0\n",
      "P       0\n",
      "K       0\n",
      "ph      0\n",
      "crop    0\n",
      "dtype: int64\n",
      "['rice' 'maize' 'chickpea' 'kidneybeans' 'pigeonpeas' 'mothbeans'\n",
      " 'mungbean' 'blackgram' 'lentil' 'pomegranate' 'banana' 'mango' 'grapes'\n",
      " 'watermelon' 'muskmelon' 'apple' 'orange' 'papaya' 'coconut' 'cotton'\n",
      " 'jute' 'coffee']\n",
      "2200\n"
     ]
    }
   ],
   "source": [
    "#Empieza el codigo hecho por el estudiante\n",
    "#Checamos la informacion del dataframe\n",
    "print(crops.info())\n",
    "print(crops.isna().sum())\n",
    "#Guardamos la columna donde esta el tipo de cultivo e imprimimos\n",
    "all_crops = crops[\"crop\"].tolist()\n",
    "print(crops[\"crop\"].unique())\n",
    "print(len(all_crops))"
   ]
  },
  {
   "cell_type": "code",
   "execution_count": 4,
   "id": "f224fd2d-53d9-4fa5-8704-3ede86be79c7",
   "metadata": {
    "executionCancelledAt": null,
    "executionTime": 26,
    "lastExecutedAt": 1726448530176,
    "lastExecutedByKernel": "e550fea3-5716-4bb0-b39a-9d9a38ce4400",
    "lastScheduledRunId": null,
    "lastSuccessfullyExecutedCode": "#Guardamos la informacion de las caracteristicas de los cultivos, sin la columna cultivos\n# para poder usarla en los modelos de regresion logistica\nfeatures = pd.DataFrame(crops).drop(\"crop\", axis=1)\nprint(features.describe())",
    "outputsMetadata": {
     "0": {
      "height": 207,
      "type": "stream"
     }
    }
   },
   "outputs": [
    {
     "name": "stdout",
     "output_type": "stream",
     "text": [
      "                 N            P            K           ph\n",
      "count  2200.000000  2200.000000  2200.000000  2200.000000\n",
      "mean     50.551818    53.362727    48.149091     6.469480\n",
      "std      36.917334    32.985883    50.647931     0.773938\n",
      "min       0.000000     5.000000     5.000000     3.504752\n",
      "25%      21.000000    28.000000    20.000000     5.971693\n",
      "50%      37.000000    51.000000    32.000000     6.425045\n",
      "75%      84.250000    68.000000    49.000000     6.923643\n",
      "max     140.000000   145.000000   205.000000     9.935091\n"
     ]
    }
   ],
   "source": [
    "#Guardamos la informacion de las caracteristicas de los cultivos, sin la columna cultivos\n",
    "# para poder usarla en los modelos de regresion logistica\n",
    "features = pd.DataFrame(crops).drop(\"crop\", axis=1)\n",
    "print(features.describe())"
   ]
  },
  {
   "cell_type": "code",
   "execution_count": 6,
   "id": "96adfe0e-cb0d-4e18-ab46-9ec8c3430b04",
   "metadata": {
    "executionCancelledAt": null,
    "executionTime": 11,
    "lastExecutedAt": 1726448547252,
    "lastExecutedByKernel": "e550fea3-5716-4bb0-b39a-9d9a38ce4400",
    "lastScheduledRunId": null,
    "lastSuccessfullyExecutedCode": "#Creamos 4 variables con las caracteristicas y los cultivos, para entrenar y evaluar los modelos.\n# Se usara el 30% de la muestra para la evaluacion y el 70% restante sera usado en training.\nX_train, X_test, y_train, y_test = train_test_split(features, all_crops, test_size=0.3, random_state=42)\n",
    "outputsMetadata": {
     "0": {
      "height": 38,
      "type": "stream"
     }
    }
   },
   "outputs": [],
   "source": [
    "#Creamos 4 variables con las caracteristicas y los cultivos, para entrenar y evaluar los modelos.\n",
    "# Se usara el 30% de la muestra para la evaluacion y el 70% restante sera usado en training.\n",
    "X_train, X_test, y_train, y_test = train_test_split(features, all_crops, test_size=0.3, random_state=42)\n"
   ]
  },
  {
   "cell_type": "code",
   "execution_count": 9,
   "id": "84957c4a-3019-4fd1-ab99-51a19da6ebb7",
   "metadata": {
    "executionCancelledAt": null,
    "executionTime": null,
    "lastExecutedAt": null,
    "lastExecutedByKernel": null,
    "lastScheduledRunId": null,
    "lastSuccessfullyExecutedCode": null,
    "outputsMetadata": {
     "0": {
      "height": 123,
      "type": "stream"
     }
    }
   },
   "outputs": [
    {
     "name": "stdout",
     "output_type": "stream",
     "text": [
      "F1-score para N:{'N': 0.09563234706123282}\n",
      "F1-score para P:{'N': 0.09563234706123282, 'P': 0.12412171549213567}\n",
      "F1-score para K:{'N': 0.09563234706123282, 'P': 0.12412171549213567, 'K': 0.23467465114240763}\n",
      "F1-score para ph:{'N': 0.09563234706123282, 'P': 0.12412171549213567, 'K': 0.23467465114240763, 'ph': 0.06787631271947597}\n"
     ]
    }
   ],
   "source": [
    "#Creamos una variable tipo diccionario para guardar los modelos con cada caracteristica\n",
    "feature_performance = {}\n",
    "for feature in [\"N\", \"P\", \"K\", \"ph\"] :\n",
    "    log_reg = LogisticRegression(multi_class=\"multinomial\")\n",
    "    log_reg.fit(X_train[[feature]], y_train)\n",
    "    y_pred = log_reg.predict(X_test[[feature]])\n",
    "    feature_importance = metrics.f1_score(y_test, y_pred, average=\"weighted\")\n",
    "    feature_performance[feature] = feature_importance\n",
    "    print(f\"F1-score para {feature}:{feature_performance}\")"
   ]
  },
  {
   "cell_type": "code",
   "execution_count": 12,
   "id": "0030c19a-45b3-4e90-9948-76af05128b8f",
   "metadata": {
    "executionCancelledAt": null,
    "executionTime": 54,
    "lastExecutedAt": 1726448677384,
    "lastExecutedByKernel": "e550fea3-5716-4bb0-b39a-9d9a38ce4400",
    "lastScheduledRunId": null,
    "lastSuccessfullyExecutedCode": "#Guardamos la caracteristica con el mejor score en una variable e imprimimos.\nbest_predictive_feature = {max(feature_performance, key=feature_performance.get): max(feature_performance.values())}"
   },
   "outputs": [],
   "source": [
    "#Guardamos la caracteristica con el mejor score en una variable e imprimimos.\n",
    "best_predictive_feature = {max(feature_performance, key=feature_performance.get): max(feature_performance.values())}"
   ]
  },
  {
   "cell_type": "code",
   "execution_count": 13,
   "id": "4f02ec63-237b-43db-a2cb-44ed62ccc697",
   "metadata": {
    "executionCancelledAt": null,
    "executionTime": 13,
    "lastExecutedAt": 1726448679171,
    "lastExecutedByKernel": "e550fea3-5716-4bb0-b39a-9d9a38ce4400",
    "lastScheduledRunId": null,
    "lastSuccessfullyExecutedCode": "print(best_predictive_feature)",
    "outputsMetadata": {
     "0": {
      "height": 38,
      "type": "stream"
     }
    }
   },
   "outputs": [
    {
     "name": "stdout",
     "output_type": "stream",
     "text": [
      "{'K': 0.23467465114240763}\n"
     ]
    }
   ],
   "source": [
    "print(best_predictive_feature)"
   ]
  }
 ],
 "metadata": {
  "colab": {
   "name": "Welcome to DataCamp Workspaces.ipynb",
   "provenance": []
  },
  "kernelspec": {
   "display_name": "Python 3 (ipykernel)",
   "language": "python",
   "name": "python3"
  },
  "language_info": {
   "codemirror_mode": {
    "name": "ipython",
    "version": 3
   },
   "file_extension": ".py",
   "mimetype": "text/x-python",
   "name": "python",
   "nbconvert_exporter": "python",
   "pygments_lexer": "ipython3",
   "version": "3.11.5"
  }
 },
 "nbformat": 4,
 "nbformat_minor": 5
}
